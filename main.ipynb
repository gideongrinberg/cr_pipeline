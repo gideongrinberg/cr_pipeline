{
 "cells": [
  {
   "cell_type": "code",
   "execution_count": 1,
   "metadata": {
    "vscode": {
     "languageId": "python"
    }
   },
   "outputs": [],
   "source": [
    "import os\n",
    "import coiled\n",
    "import numpy as np\n",
    "import pandas as pd\n",
    "\n",
    "from dask.distributed import wait\n",
    "from dask.distributed import print as log\n",
    "\n",
    "from pipeline.plotting import make_plot\n",
    "from pipeline.complexity import is_complex\n",
    "from pipeline.lightcurves import make_lightcurves, load_lc"
   ]
  },
  {
   "cell_type": "code",
   "execution_count": 5,
   "metadata": {
    "vscode": {
     "languageId": "python"
    }
   },
   "outputs": [],
   "source": [
    "targets = pd.read_csv(\"./misc/top_1000.csv\")"
   ]
  },
  {
   "cell_type": "code",
   "execution_count": 6,
   "metadata": {
    "vscode": {
     "languageId": "python"
    }
   },
   "outputs": [],
   "source": [
    "def process_target(target):\n",
    "    try:\n",
    "        os.mkdir(\"./lightcurves/\")\n",
    "    except:\n",
    "        pass\n",
    "    \n",
    "    tic, ra, dec = target\n",
    "    tic = f\"TIC {tic}\"\n",
    "\n",
    "    results = []\n",
    "    sectors = make_lightcurves(tic=tic, ra=ra, dec=dec)\n",
    "    \n",
    "    for sector in sectors: \n",
    "        lc = load_lc(sector[0], sector[1])\n",
    "        try:\n",
    "            results.append((sector[0], sector[1], is_complex(lc)))\n",
    "        except:\n",
    "            results.append((sector[0], sector[1], pd.NA))\n",
    "\n",
    "    return results"
   ]
  },
  {
   "cell_type": "code",
   "execution_count": 9,
   "metadata": {
    "vscode": {
     "languageId": "python"
    }
   },
   "outputs": [],
   "source": [
    "cluster = coiled.Cluster(\n",
    "    n_workers=5,\n",
    "    region=\"us-east-1\",\n",
    "    name=\"test_1000\",\n",
    ")\n",
    "\n",
    "client = cluster.get_client()"
   ]
  },
  {
   "cell_type": "code",
   "execution_count": 10,
   "metadata": {
    "vscode": {
     "languageId": "python"
    }
   },
   "outputs": [
    {
     "ename": "AttributeError",
     "evalue": "'NoneType' object has no attribute 'split'",
     "output_type": "error",
     "traceback": [
      "\u001b[0;31m---------------------------------------------------------------------------\u001b[0m\n",
      "\u001b[0;31mAttributeError\u001b[0m                            Traceback (most recent call last)\n",
      "File \u001b[0;32m<timed exec>:8\u001b[0m\n",
      "\n",
      "File \u001b[0;32m~/Library/Caches/pypoetry/virtualenvs/jmag-pipeline-ro4hboUK-py3.11/lib/python3.11/site-packages/distributed/client.py:2565\u001b[0m, in \u001b[0;36mClient.gather\u001b[0;34m(self, futures, errors, direct, asynchronous)\u001b[0m\n",
      "\u001b[1;32m   2562\u001b[0m     local_worker \u001b[38;5;241m=\u001b[39m \u001b[38;5;28;01mNone\u001b[39;00m\n",
      "\u001b[1;32m   2564\u001b[0m \u001b[38;5;28;01mwith\u001b[39;00m shorten_traceback():\n",
      "\u001b[0;32m-> 2565\u001b[0m     \u001b[38;5;28;01mreturn\u001b[39;00m \u001b[38;5;28;43mself\u001b[39;49m\u001b[38;5;241;43m.\u001b[39;49m\u001b[43msync\u001b[49m\u001b[43m(\u001b[49m\n",
      "\u001b[1;32m   2566\u001b[0m \u001b[43m        \u001b[49m\u001b[38;5;28;43mself\u001b[39;49m\u001b[38;5;241;43m.\u001b[39;49m\u001b[43m_gather\u001b[49m\u001b[43m,\u001b[49m\n",
      "\u001b[1;32m   2567\u001b[0m \u001b[43m        \u001b[49m\u001b[43mfutures\u001b[49m\u001b[43m,\u001b[49m\n",
      "\u001b[1;32m   2568\u001b[0m \u001b[43m        \u001b[49m\u001b[43merrors\u001b[49m\u001b[38;5;241;43m=\u001b[39;49m\u001b[43merrors\u001b[49m\u001b[43m,\u001b[49m\n",
      "\u001b[1;32m   2569\u001b[0m \u001b[43m        \u001b[49m\u001b[43mdirect\u001b[49m\u001b[38;5;241;43m=\u001b[39;49m\u001b[43mdirect\u001b[49m\u001b[43m,\u001b[49m\n",
      "\u001b[1;32m   2570\u001b[0m \u001b[43m        \u001b[49m\u001b[43mlocal_worker\u001b[49m\u001b[38;5;241;43m=\u001b[39;49m\u001b[43mlocal_worker\u001b[49m\u001b[43m,\u001b[49m\n",
      "\u001b[1;32m   2571\u001b[0m \u001b[43m        \u001b[49m\u001b[43masynchronous\u001b[49m\u001b[38;5;241;43m=\u001b[39;49m\u001b[43masynchronous\u001b[49m\u001b[43m,\u001b[49m\n",
      "\u001b[1;32m   2572\u001b[0m \u001b[43m    \u001b[49m\u001b[43m)\u001b[49m\n",
      "\n",
      "Cell \u001b[0;32mIn[6], line 11\u001b[0m, in \u001b[0;36mprocess_target\u001b[0;34m()\u001b[0m\n",
      "\u001b[1;32m      8\u001b[0m tic \u001b[38;5;241m=\u001b[39m \u001b[38;5;124mf\u001b[39m\u001b[38;5;124m\"\u001b[39m\u001b[38;5;124mTIC \u001b[39m\u001b[38;5;132;01m{\u001b[39;00mtic\u001b[38;5;132;01m}\u001b[39;00m\u001b[38;5;124m\"\u001b[39m\n",
      "\u001b[1;32m     10\u001b[0m results \u001b[38;5;241m=\u001b[39m []\n",
      "\u001b[0;32m---> 11\u001b[0m sectors \u001b[38;5;241m=\u001b[39m make_lightcurves(tic\u001b[38;5;241m=\u001b[39mtic, ra\u001b[38;5;241m=\u001b[39mra, dec\u001b[38;5;241m=\u001b[39mdec)\n",
      "\u001b[1;32m     13\u001b[0m \u001b[38;5;28;01mfor\u001b[39;00m sector \u001b[38;5;129;01min\u001b[39;00m sectors: \n",
      "\u001b[1;32m     14\u001b[0m     lc \u001b[38;5;241m=\u001b[39m load_lc(sector[\u001b[38;5;241m0\u001b[39m], sector[\u001b[38;5;241m1\u001b[39m])\n",
      "\n",
      "File \u001b[0;32m/opt/coiled/env/lib/python3.11/site-packages/pipeline/lightcurves.py:66\u001b[0m, in \u001b[0;36mmake_lightcurves\u001b[0;34m()\u001b[0m\n",
      "\n",
      "File \u001b[0;32m/opt/coiled/env/lib/python3.11/site-packages/pipeline/unpopular/source.py:24\u001b[0m, in \u001b[0;36m__init__\u001b[0;34m()\u001b[0m\n",
      "\n",
      "File \u001b[0;32m/opt/coiled/env/lib/python3.11/site-packages/pipeline/unpopular/cutout_data.py:32\u001b[0m, in \u001b[0;36m__init__\u001b[0;34m()\u001b[0m\n",
      "\n",
      "\u001b[0;31mAttributeError\u001b[0m: 'NoneType' object has no attribute 'split'"
     ]
    }
   ],
   "source": [
    "%%time\n",
    "target_tuples = [tuple(target) for target in list(targets.itertuples(index=False))]\n",
    "futures = []\n",
    "\n",
    "for target in target_tuples:\n",
    "    future = client.submit(process_target, target)\n",
    "    futures.append(future)\n",
    "\n",
    "results = client.gather(futures)"
   ]
  },
  {
   "cell_type": "code",
   "execution_count": null,
   "metadata": {
    "vscode": {
     "languageId": "python"
    }
   },
   "outputs": [],
   "source": [
    "cluster.close()"
   ]
  },
  {
   "cell_type": "code",
   "execution_count": 8,
   "metadata": {
    "vscode": {
     "languageId": "python"
    }
   },
   "outputs": [
    {
     "data": {
      "application/vnd.jupyter.widget-view+json": {
       "model_id": "e8da96b7ca364ca8aee121d25085fea3",
       "version_major": 2,
       "version_minor": 0
      },
      "text/plain": [
       "Button(description='Next Graph', style=ButtonStyle())"
      ]
     },
     "metadata": {},
     "output_type": "display_data"
    },
    {
     "data": {
      "application/vnd.jupyter.widget-view+json": {
       "model_id": "d327ba34cdfe45c9b6f6e344ac45df3d",
       "version_major": 2,
       "version_minor": 0
      },
      "text/plain": [
       "Output()"
      ]
     },
     "metadata": {},
     "output_type": "display_data"
    }
   ],
   "source": [
    "import matplotlib.pyplot as plt\n",
    "import ipywidgets as widgets\n",
    "from IPython.display import display, clear_output\n",
    "\n",
    "%matplotlib widget\n",
    "\n",
    "results_flat = []\n",
    "for result in results:\n",
    "    results_flat.extend(result)\n",
    "\n",
    "output = widgets.Output()\n",
    "counter = 0\n",
    "\n",
    "def plot(i):\n",
    "    tic, sector, complexity = results_flat[i]\n",
    "\n",
    "    if complexity not in [True, False]:\n",
    "        complexity = None\n",
    "\n",
    "    with output:\n",
    "        clear_output(wait=True)\n",
    "        make_plot(load_lc(tic, sector), complexity=complexity)\n",
    "        plt.show()\n",
    "\n",
    "def on_button_click(b):\n",
    "    \"\"\"Callback function for button press\"\"\"\n",
    "    global counter\n",
    "    counter += 1  # Increment counter\n",
    "    plot(counter)\n",
    "\n",
    "button = widgets.Button(description=\"Next Graph\")\n",
    "button.on_click(on_button_click)\n",
    "\n",
    "display(button, output)\n",
    "plot(counter)\n"
   ]
  },
  {
   "cell_type": "code",
   "execution_count": 52,
   "metadata": {
    "vscode": {
     "languageId": "python"
    }
   },
   "outputs": [
    {
     "data": {
      "text/plain": [
       "[('TIC 425933644', 1, True),\n",
       " ('TIC 425933644', 2, True),\n",
       " ('TIC 425933644', 28, True),\n",
       " ('TIC 425933644', 28, True),\n",
       " ('TIC 425933644', 29, True),\n",
       " ('TIC 425933644', 68, True),\n",
       " ('TIC 425933644', 69, True),\n",
       " ('TIC 406040223', 11, False),\n",
       " ('TIC 406040223', 37, False),\n",
       " ('TIC 406040223', 38, False),\n",
       " ('TIC 406040223', 64, False),\n",
       " ('TIC 406040223', 65, <NA>),\n",
       " ('TIC 448002486', 11, False),\n",
       " ('TIC 448002486', 38, False),\n",
       " ('TIC 448002486', 64, False),\n",
       " ('TIC 448002486', 65, False)]"
      ]
     },
     "execution_count": null,
     "metadata": {},
     "output_type": "execute_result"
    }
   ],
   "source": [
    "results_flat"
   ]
  },
  {
   "cell_type": "code",
   "execution_count": null,
   "metadata": {
    "vscode": {
     "languageId": "python"
    }
   },
   "outputs": [],
   "source": []
  }
 ],
 "metadata": {
  "language_info": {
   "name": "plaintext"
  }
 },
 "nbformat": 4,
 "nbformat_minor": 2
}
