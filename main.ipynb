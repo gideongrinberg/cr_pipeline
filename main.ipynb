{
 "cells": [
  {
   "cell_type": "code",
   "execution_count": 1,
   "metadata": {
    "vscode": {
     "languageId": "python"
    }
   },
   "outputs": [],
   "source": [
    "import os\n",
    "import coiled\n",
    "import numpy as np\n",
    "import pandas as pd\n",
    "\n",
    "from dask.distributed import wait\n",
    "from dask.distributed import print as log\n",
    "\n",
    "from pipeline.plotting import make_plot\n",
    "from pipeline.complexity import is_complex\n",
    "from pipeline.lightcurves import make_lightcurves, load_lc"
   ]
  },
  {
   "cell_type": "code",
   "execution_count": 2,
   "metadata": {
    "vscode": {
     "languageId": "python"
    }
   },
   "outputs": [],
   "source": [
    "targets = pd.read_csv(\"./misc/targets.txt\")"
   ]
  },
  {
   "cell_type": "code",
   "execution_count": 3,
   "metadata": {
    "vscode": {
     "languageId": "python"
    }
   },
   "outputs": [],
   "source": [
    "def process_target(target):\n",
    "    try:\n",
    "        os.mkdir(\"./lightcurves/\")\n",
    "    except:\n",
    "        pass\n",
    "    \n",
    "    tic, ra, dec = target\n",
    "    tic = f\"TIC {tic}\"\n",
    "\n",
    "    results = []\n",
    "    sectors = make_lightcurves(tic=tic, ra=ra, dec=dec)\n",
    "    \n",
    "    for sector in sectors: \n",
    "        lc = load_lc(sector[0], sector[1])\n",
    "        try:\n",
    "            results.append((sector[0], sector[1], is_complex(lc)))\n",
    "        except:\n",
    "            results.append((sector[0], sector[1], pd.NA))\n",
    "\n",
    "    return results"
   ]
  },
  {
   "cell_type": "code",
   "execution_count": 4,
   "metadata": {
    "vscode": {
     "languageId": "python"
    }
   },
   "outputs": [],
   "source": [
    "cluster = coiled.Cluster(\n",
    "    n_workers=3,\n",
    "    region=\"us-east-1\",\n",
    "    name=\"pipeline_test\",\n",
    ")\n",
    "\n",
    "client = cluster.get_client()"
   ]
  },
  {
   "cell_type": "code",
   "execution_count": 5,
   "metadata": {
    "vscode": {
     "languageId": "python"
    }
   },
   "outputs": [
    {
     "name": "stdout",
     "output_type": "stream",
     "text": [
      "CPU times: user 165 ms, sys: 26.9 ms, total: 192 ms\n",
      "Wall time: 33.3 s\n"
     ]
    }
   ],
   "source": [
    "%%time\n",
    "target_tuples = [tuple(target) for target in list(targets.itertuples(index=False))]\n",
    "futures = []\n",
    "\n",
    "for target in target_tuples:\n",
    "    future = client.submit(process_target, target)\n",
    "    futures.append(future)\n",
    "\n",
    "results = client.gather(futures)"
   ]
  },
  {
   "cell_type": "code",
   "execution_count": 7,
   "metadata": {
    "vscode": {
     "languageId": "python"
    }
   },
   "outputs": [],
   "source": [
    "cluster.close()"
   ]
  },
  {
   "cell_type": "code",
   "execution_count": 8,
   "metadata": {
    "vscode": {
     "languageId": "python"
    }
   },
   "outputs": [
    {
     "data": {
      "application/vnd.jupyter.widget-view+json": {
       "model_id": "e8da96b7ca364ca8aee121d25085fea3",
       "version_major": 2,
       "version_minor": 0
      },
      "text/plain": [
       "Button(description='Next Graph', style=ButtonStyle())"
      ]
     },
     "metadata": {},
     "output_type": "display_data"
    },
    {
     "data": {
      "application/vnd.jupyter.widget-view+json": {
       "model_id": "d327ba34cdfe45c9b6f6e344ac45df3d",
       "version_major": 2,
       "version_minor": 0
      },
      "text/plain": [
       "Output()"
      ]
     },
     "metadata": {},
     "output_type": "display_data"
    }
   ],
   "source": [
    "import matplotlib.pyplot as plt\n",
    "import ipywidgets as widgets\n",
    "from IPython.display import display, clear_output\n",
    "\n",
    "%matplotlib widget\n",
    "\n",
    "results_flat = []\n",
    "for result in results:\n",
    "    results_flat.extend(result)\n",
    "\n",
    "output = widgets.Output()\n",
    "counter = 0\n",
    "\n",
    "def plot(i):\n",
    "    tic, sector, complexity = results_flat[i]\n",
    "\n",
    "    if complexity not in [True, False]:\n",
    "        complexity = None\n",
    "\n",
    "    with output:\n",
    "        clear_output(wait=True)\n",
    "        make_plot(load_lc(tic, sector), complexity=complexity)\n",
    "        plt.show()\n",
    "\n",
    "def on_button_click(b):\n",
    "    \"\"\"Callback function for button press\"\"\"\n",
    "    global counter\n",
    "    counter += 1  # Increment counter\n",
    "    plot(counter)\n",
    "\n",
    "button = widgets.Button(description=\"Next Graph\")\n",
    "button.on_click(on_button_click)\n",
    "\n",
    "display(button, output)\n",
    "plot(counter)\n"
   ]
  },
  {
   "cell_type": "code",
   "execution_count": 52,
   "metadata": {
    "vscode": {
     "languageId": "python"
    }
   },
   "outputs": [
    {
     "data": {
      "text/plain": [
       "[('TIC 425933644', 1, True),\n",
       " ('TIC 425933644', 2, True),\n",
       " ('TIC 425933644', 28, True),\n",
       " ('TIC 425933644', 28, True),\n",
       " ('TIC 425933644', 29, True),\n",
       " ('TIC 425933644', 68, True),\n",
       " ('TIC 425933644', 69, True),\n",
       " ('TIC 406040223', 11, False),\n",
       " ('TIC 406040223', 37, False),\n",
       " ('TIC 406040223', 38, False),\n",
       " ('TIC 406040223', 64, False),\n",
       " ('TIC 406040223', 65, <NA>),\n",
       " ('TIC 448002486', 11, False),\n",
       " ('TIC 448002486', 38, False),\n",
       " ('TIC 448002486', 64, False),\n",
       " ('TIC 448002486', 65, False)]"
      ]
     },
     "execution_count": null,
     "metadata": {},
     "output_type": "execute_result"
    }
   ],
   "source": [
    "results_flat"
   ]
  },
  {
   "cell_type": "code",
   "execution_count": null,
   "metadata": {
    "vscode": {
     "languageId": "python"
    }
   },
   "outputs": [],
   "source": []
  }
 ],
 "metadata": {
  "language_info": {
   "name": "plaintext"
  }
 },
 "nbformat": 4,
 "nbformat_minor": 2
}
