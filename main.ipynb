{
 "cells": [
  {
   "cell_type": "code",
   "execution_count": 11,
   "metadata": {},
   "outputs": [],
   "source": [
    "import os\n",
    "import coiled\n",
    "import logging\n",
    "import numpy as np\n",
    "import pandas as pd\n",
    "\n",
    "from dask.distributed import wait\n",
    "from dask.distributed import print as log\n",
    "\n",
    "from pipeline.plotting import make_plot\n",
    "from pipeline.complexity import is_complex\n",
    "from pipeline.lightcurves import make_lightcurves, load_lc"
   ]
  },
  {
   "cell_type": "code",
   "execution_count": 22,
   "metadata": {},
   "outputs": [],
   "source": [
    "logger = logging.getLogger(__name__)\n",
    "logging.basicConfig(\n",
    "    level=logging.DEBUG, # Set the minimum logging level\n",
    "    format='%(asctime)s - %(levelname)s - %(message)s',\n",
    "    handlers=[\n",
    "        logging.FileHandler('pipeline.log'), # Log to a file\n",
    "        logging.StreamHandler() # Log to the console\n",
    "    ]\n",
    ")"
   ]
  },
  {
   "cell_type": "code",
   "execution_count": 24,
   "metadata": {},
   "outputs": [],
   "source": [
    "logging.critical(\"TEST\")"
   ]
  },
  {
   "cell_type": "code",
   "execution_count": 17,
   "metadata": {},
   "outputs": [],
   "source": [
    "def mkdir(path):\n",
    "    try:\n",
    "        os.mkdir(path)\n",
    "    except:\n",
    "        pass\n",
    "\n",
    "def process_target(target):\n",
    "    mkdir(\"./cutouts\")\n",
    "    mkdir(\"./lightcurves\")\n",
    "    \n",
    "    tic, ra, dec = target\n",
    "    tic = f\"TIC {tic}\"\n",
    "    logger.critical(f\"[{tic}]: Beginning processing\")\n",
    "    \n",
    "    results = []\n",
    "    try:\n",
    "        sectors = make_lightcurves(tic=tic, ra=ra, dec=dec)\n",
    "    except Exception as e:\n",
    "        logger.critical(f\"[{tic}]: Failed to download lightcurve\\n{e}\")\n",
    "    \n",
    "    for sector in sectors: \n",
    "        try:\n",
    "            lc = load_lc(sector[0], sector[1])\n",
    "        except Exception as e:\n",
    "            logger.critical(f\"[{tic}]: Failed to load lightcurve\\n{e}\")\n",
    "\n",
    "        try:\n",
    "            results.append((sector[0], sector[1], is_complex(lc)))\n",
    "        except:\n",
    "            results.append((sector[0], sector[1], pd.NA))\n",
    "\n",
    "    return results"
   ]
  },
  {
   "cell_type": "code",
   "execution_count": 20,
   "metadata": {},
   "outputs": [
    {
     "name": "stderr",
     "output_type": "stream",
     "text": [
      "WARNING: VerifyWarning: Card is too long, comment will be truncated. [astropy.io.fits.card]\n",
      "WARNING: VerifyWarning: Card is too long, comment will be truncated. [astropy.io.fits.card]\n"
     ]
    },
    {
     "name": "stdout",
     "output_type": "stream",
     "text": [
      "Removing 1497 bad data points (out of 3534) using the TESS provided QUALITY array\n",
      "Summing over 1 x 1 pixel lightcurves. Weighting=None\n",
      "Removing 1095 bad data points (out of 10730) using the TESS provided QUALITY array\n",
      "Summing over 1 x 1 pixel lightcurves. Weighting=None\n"
     ]
    },
    {
     "name": "stderr",
     "output_type": "stream",
     "text": [
      "WARNING: VerifyWarning: Card is too long, comment will be truncated. [astropy.io.fits.card]\n",
      "WARNING: VerifyWarning: Card is too long, comment will be truncated. [astropy.io.fits.card]\n"
     ]
    },
    {
     "name": "stdout",
     "output_type": "stream",
     "text": [
      "Removing 1497 bad data points (out of 3534) using the TESS provided QUALITY array\n",
      "Summing over 1 x 1 pixel lightcurves. Weighting=None\n",
      "Removing 1095 bad data points (out of 10730) using the TESS provided QUALITY array\n",
      "Summing over 1 x 1 pixel lightcurves. Weighting=None\n"
     ]
    },
    {
     "name": "stderr",
     "output_type": "stream",
     "text": [
      "WARNING: VerifyWarning: Card is too long, comment will be truncated. [astropy.io.fits.card]\n",
      "WARNING: VerifyWarning: Card is too long, comment will be truncated. [astropy.io.fits.card]\n",
      "WARNING: VerifyWarning: Card is too long, comment will be truncated. [astropy.io.fits.card]\n",
      "WARNING: VerifyWarning: Card is too long, comment will be truncated. [astropy.io.fits.card]\n",
      "WARNING: VerifyWarning: Card is too long, comment will be truncated. [astropy.io.fits.card]\n"
     ]
    },
    {
     "name": "stdout",
     "output_type": "stream",
     "text": [
      "Removing 49 bad data points (out of 1245) using the TESS provided QUALITY array\n",
      "Summing over 1 x 1 pixel lightcurves. Weighting=None\n",
      "Removing 871 bad data points (out of 3635) using the TESS provided QUALITY array\n",
      "Summing over 1 x 1 pixel lightcurves. Weighting=None\n",
      "Removing 1497 bad data points (out of 3534) using the TESS provided QUALITY array\n",
      "Summing over 1 x 1 pixel lightcurves. Weighting=None\n"
     ]
    },
    {
     "name": "stderr",
     "output_type": "stream",
     "text": [
      "/Users/gideongrinberg/Library/Caches/pypoetry/virtualenvs/jmag-pipeline-ro4hboUK-py3.11/lib/python3.11/site-packages/numpy/lib/nanfunctions.py:1217: RuntimeWarning: All-NaN slice encountered\n",
      "  return function_base._ureduce(a, func=_nanmedian, keepdims=keepdims,\n"
     ]
    },
    {
     "name": "stdout",
     "output_type": "stream",
     "text": [
      "Removing 1784 bad data points (out of 10854) using the TESS provided QUALITY array\n",
      "Summing over 1 x 1 pixel lightcurves. Weighting=None\n",
      "Removing 1095 bad data points (out of 10730) using the TESS provided QUALITY array\n",
      "Summing over 1 x 1 pixel lightcurves. Weighting=None\n"
     ]
    },
    {
     "name": "stderr",
     "output_type": "stream",
     "text": [
      "/Users/gideongrinberg/Library/Caches/pypoetry/virtualenvs/jmag-pipeline-ro4hboUK-py3.11/lib/python3.11/site-packages/numpy/core/fromnumeric.py:3504: RuntimeWarning: Mean of empty slice.\n",
      "  return _methods._mean(a, axis=axis, dtype=dtype,\n",
      "/Users/gideongrinberg/Library/Caches/pypoetry/virtualenvs/jmag-pipeline-ro4hboUK-py3.11/lib/python3.11/site-packages/numpy/core/_methods.py:129: RuntimeWarning: invalid value encountered in scalar divide\n",
      "  ret = ret.dtype.type(ret / rcount)\n",
      "WARNING: VerifyWarning: Card is too long, comment will be truncated. [astropy.io.fits.card]\n",
      "WARNING: VerifyWarning: Card is too long, comment will be truncated. [astropy.io.fits.card]\n",
      "WARNING: VerifyWarning: Card is too long, comment will be truncated. [astropy.io.fits.card]\n",
      "WARNING: VerifyWarning: Card is too long, comment will be truncated. [astropy.io.fits.card]\n",
      "WARNING: VerifyWarning: Card is too long, comment will be truncated. [astropy.io.fits.card]\n"
     ]
    },
    {
     "name": "stdout",
     "output_type": "stream",
     "text": [
      "Removing 49 bad data points (out of 1245) using the TESS provided QUALITY array\n",
      "Summing over 1 x 1 pixel lightcurves. Weighting=None\n",
      "Removing 871 bad data points (out of 3635) using the TESS provided QUALITY array\n",
      "Summing over 1 x 1 pixel lightcurves. Weighting=None\n",
      "Removing 1497 bad data points (out of 3534) using the TESS provided QUALITY array\n",
      "Summing over 1 x 1 pixel lightcurves. Weighting=None\n"
     ]
    },
    {
     "name": "stderr",
     "output_type": "stream",
     "text": [
      "/Users/gideongrinberg/Documents/Coding/srmp/final/pipeline/unpopular/cutout_data.py:119: RuntimeWarning: invalid value encountered in divide\n",
      "  self.normalized_fluxes = (self.fluxes / self.flux_medians) - 1\n",
      "/Users/gideongrinberg/Documents/Coding/srmp/final/pipeline/unpopular/cutout_data.py:125: RuntimeWarning: invalid value encountered in divide\n",
      "  self.normalized_flux_errors = self.flux_errors / self.flux_medians\n"
     ]
    },
    {
     "name": "stdout",
     "output_type": "stream",
     "text": [
      "Removing 1784 bad data points (out of 10854) using the TESS provided QUALITY array\n"
     ]
    },
    {
     "ename": "KeyboardInterrupt",
     "evalue": "",
     "output_type": "error",
     "traceback": [
      "\u001b[0;31m---------------------------------------------------------------------------\u001b[0m\n",
      "\u001b[0;31mKeyboardInterrupt\u001b[0m                         Traceback (most recent call last)\n",
      "File \u001b[0;32m<timed exec>:2\u001b[0m\n",
      "\n",
      "Cell \u001b[0;32mIn[17], line 17\u001b[0m, in \u001b[0;36mprocess_target\u001b[0;34m(target)\u001b[0m\n",
      "\u001b[1;32m     15\u001b[0m results \u001b[38;5;241m=\u001b[39m []\n",
      "\u001b[1;32m     16\u001b[0m \u001b[38;5;28;01mtry\u001b[39;00m:\n",
      "\u001b[0;32m---> 17\u001b[0m     sectors \u001b[38;5;241m=\u001b[39m \u001b[43mmake_lightcurves\u001b[49m\u001b[43m(\u001b[49m\u001b[43mtic\u001b[49m\u001b[38;5;241;43m=\u001b[39;49m\u001b[43mtic\u001b[49m\u001b[43m,\u001b[49m\u001b[43m \u001b[49m\u001b[43mra\u001b[49m\u001b[38;5;241;43m=\u001b[39;49m\u001b[43mra\u001b[49m\u001b[43m,\u001b[49m\u001b[43m \u001b[49m\u001b[43mdec\u001b[49m\u001b[38;5;241;43m=\u001b[39;49m\u001b[43mdec\u001b[49m\u001b[43m)\u001b[49m\n",
      "\u001b[1;32m     18\u001b[0m \u001b[38;5;28;01mexcept\u001b[39;00m \u001b[38;5;167;01mException\u001b[39;00m \u001b[38;5;28;01mas\u001b[39;00m e:\n",
      "\u001b[1;32m     19\u001b[0m     logger\u001b[38;5;241m.\u001b[39mcritical(\u001b[38;5;124mf\u001b[39m\u001b[38;5;124m\"\u001b[39m\u001b[38;5;124m[\u001b[39m\u001b[38;5;132;01m{\u001b[39;00mtic\u001b[38;5;132;01m}\u001b[39;00m\u001b[38;5;124m]: Failed to download lightcurve\u001b[39m\u001b[38;5;130;01m\\n\u001b[39;00m\u001b[38;5;132;01m{\u001b[39;00me\u001b[38;5;132;01m}\u001b[39;00m\u001b[38;5;124m\"\u001b[39m)\n",
      "\n",
      "File \u001b[0;32m~/Documents/Coding/srmp/final/pipeline/lightcurves.py:66\u001b[0m, in \u001b[0;36mmake_lightcurves\u001b[0;34m(tic, ra, dec, sectors)\u001b[0m\n",
      "\u001b[1;32m     63\u001b[0m     cutouts \u001b[38;5;241m=\u001b[39m _download_cutouts(tic)\n",
      "\u001b[1;32m     65\u001b[0m \u001b[38;5;28;01mfor\u001b[39;00m cutout \u001b[38;5;129;01min\u001b[39;00m cutouts:\n",
      "\u001b[0;32m---> 66\u001b[0m     s \u001b[38;5;241m=\u001b[39m \u001b[43munpopular\u001b[49m\u001b[38;5;241;43m.\u001b[39;49m\u001b[43mSource\u001b[49m\u001b[43m(\u001b[49m\u001b[43mcutout\u001b[49m\u001b[43m,\u001b[49m\u001b[43m \u001b[49m\u001b[43mremove_bad\u001b[49m\u001b[38;5;241;43m=\u001b[39;49m\u001b[38;5;28;43;01mTrue\u001b[39;49;00m\u001b[43m)\u001b[49m\n",
      "\u001b[1;32m     68\u001b[0m     s\u001b[38;5;241m.\u001b[39mset_aperture(rowlims\u001b[38;5;241m=\u001b[39m[\u001b[38;5;241m25\u001b[39m, \u001b[38;5;241m25\u001b[39m], collims\u001b[38;5;241m=\u001b[39m[\u001b[38;5;241m25\u001b[39m, \u001b[38;5;241m25\u001b[39m])\n",
      "\u001b[1;32m     69\u001b[0m     s\u001b[38;5;241m.\u001b[39madd_cpm_model(exclusion_size\u001b[38;5;241m=\u001b[39m\u001b[38;5;241m5\u001b[39m, n\u001b[38;5;241m=\u001b[39m\u001b[38;5;241m64\u001b[39m, predictor_method\u001b[38;5;241m=\u001b[39m\u001b[38;5;124m\"\u001b[39m\u001b[38;5;124msimilar_brightness\u001b[39m\u001b[38;5;124m\"\u001b[39m)\n",
      "\n",
      "File \u001b[0;32m~/Documents/Coding/srmp/final/pipeline/unpopular/source.py:24\u001b[0m, in \u001b[0;36mSource.__init__\u001b[0;34m(self, path, remove_bad, verbose, provenance, quality, bkg_subtract, bkg_n, time_path, flux_path, ferr_path)\u001b[0m\n",
      "\u001b[1;32m     22\u001b[0m \u001b[38;5;28mself\u001b[39m\u001b[38;5;241m.\u001b[39mprovenance \u001b[38;5;241m=\u001b[39m provenance\n",
      "\u001b[1;32m     23\u001b[0m \u001b[38;5;28;01mif\u001b[39;00m provenance \u001b[38;5;129;01min\u001b[39;00m [\u001b[38;5;124m'\u001b[39m\u001b[38;5;124mTessCut\u001b[39m\u001b[38;5;124m'\u001b[39m, \u001b[38;5;124m'\u001b[39m\u001b[38;5;124meleanor\u001b[39m\u001b[38;5;124m'\u001b[39m]:\n",
      "\u001b[0;32m---> 24\u001b[0m     \u001b[38;5;28mself\u001b[39m\u001b[38;5;241m.\u001b[39mcutout_data \u001b[38;5;241m=\u001b[39m \u001b[43mCutoutData\u001b[49m\u001b[43m(\u001b[49m\u001b[43mpath\u001b[49m\u001b[43m,\u001b[49m\u001b[43m \u001b[49m\u001b[43mremove_bad\u001b[49m\u001b[43m,\u001b[49m\u001b[43m \u001b[49m\u001b[43mverbose\u001b[49m\u001b[43m,\u001b[49m\u001b[43m \u001b[49m\n",
      "\u001b[1;32m     25\u001b[0m \u001b[43m                                \u001b[49m\u001b[38;5;28;43mself\u001b[39;49m\u001b[38;5;241;43m.\u001b[39;49m\u001b[43mprovenance\u001b[49m\u001b[43m,\u001b[49m\u001b[43m \u001b[49m\u001b[43mquality\u001b[49m\u001b[43m,\u001b[49m\u001b[43m \u001b[49m\u001b[43mbkg_subtract\u001b[49m\u001b[43m,\u001b[49m\u001b[43m \u001b[49m\u001b[43mbkg_n\u001b[49m\u001b[43m)\u001b[49m\n",
      "\u001b[1;32m     26\u001b[0m \u001b[38;5;28;01melif\u001b[39;00m provenance \u001b[38;5;241m==\u001b[39m \u001b[38;5;124m'\u001b[39m\u001b[38;5;124mlocal\u001b[39m\u001b[38;5;124m'\u001b[39m:\n",
      "\u001b[1;32m     27\u001b[0m     \u001b[38;5;28mself\u001b[39m\u001b[38;5;241m.\u001b[39mcutout_data \u001b[38;5;241m=\u001b[39m CutoutData(path, remove_bad, verbose,\n",
      "\u001b[1;32m     28\u001b[0m                                  \u001b[38;5;28mself\u001b[39m\u001b[38;5;241m.\u001b[39mprovenance, bkg_subtract\u001b[38;5;241m=\u001b[39mbkg_subtract, bkg_n\u001b[38;5;241m=\u001b[39mbkg_n,\n",
      "\u001b[1;32m     29\u001b[0m                                  time_path\u001b[38;5;241m=\u001b[39mtime_path, flux_path\u001b[38;5;241m=\u001b[39mflux_path, ferr_path\u001b[38;5;241m=\u001b[39mferr_path)\n",
      "\n",
      "File \u001b[0;32m~/Documents/Coding/srmp/final/pipeline/unpopular/cutout_data.py:111\u001b[0m, in \u001b[0;36mCutoutData.__init__\u001b[0;34m(self, path, remove_bad, verbose, provenance, quality, bkg_subtract, bkg_n, time_path, flux_path, ferr_path)\u001b[0m\n",
      "\u001b[1;32m    107\u001b[0m     \u001b[38;5;28mself\u001b[39m\u001b[38;5;241m.\u001b[39mfluxes \u001b[38;5;241m-\u001b[39m\u001b[38;5;241m=\u001b[39m \u001b[38;5;28mself\u001b[39m\u001b[38;5;241m.\u001b[39mbkg_estimate\u001b[38;5;241m.\u001b[39mreshape(\u001b[38;5;241m-\u001b[39m\u001b[38;5;241m1\u001b[39m, \u001b[38;5;241m1\u001b[39m, \u001b[38;5;241m1\u001b[39m)\n",
      "\u001b[1;32m    109\u001b[0m \u001b[38;5;66;03m# We're going to precompute the pixel lightcurve medians since it's used to set the predictor pixels\u001b[39;00m\n",
      "\u001b[1;32m    110\u001b[0m \u001b[38;5;66;03m# but never has to be recomputed. np.nanmedian is used to handle images containing NaN values.\u001b[39;00m\n",
      "\u001b[0;32m--> 111\u001b[0m \u001b[38;5;28mself\u001b[39m\u001b[38;5;241m.\u001b[39mflux_medians \u001b[38;5;241m=\u001b[39m \u001b[43mnp\u001b[49m\u001b[38;5;241;43m.\u001b[39;49m\u001b[43mnanmedian\u001b[49m\u001b[43m(\u001b[49m\u001b[38;5;28;43mself\u001b[39;49m\u001b[38;5;241;43m.\u001b[39;49m\u001b[43mfluxes\u001b[49m\u001b[43m,\u001b[49m\u001b[43m \u001b[49m\u001b[43maxis\u001b[49m\u001b[38;5;241;43m=\u001b[39;49m\u001b[38;5;241;43m0\u001b[39;49m\u001b[43m)\u001b[49m\n",
      "\u001b[1;32m    112\u001b[0m \u001b[38;5;28mself\u001b[39m\u001b[38;5;241m.\u001b[39mcutout_sidelength_x \u001b[38;5;241m=\u001b[39m \u001b[38;5;28mself\u001b[39m\u001b[38;5;241m.\u001b[39mfluxes[\u001b[38;5;241m0\u001b[39m]\u001b[38;5;241m.\u001b[39mshape[\u001b[38;5;241m0\u001b[39m]\n",
      "\u001b[1;32m    113\u001b[0m \u001b[38;5;28mself\u001b[39m\u001b[38;5;241m.\u001b[39mcutout_sidelength_y \u001b[38;5;241m=\u001b[39m \u001b[38;5;28mself\u001b[39m\u001b[38;5;241m.\u001b[39mfluxes[\u001b[38;5;241m0\u001b[39m]\u001b[38;5;241m.\u001b[39mshape[\u001b[38;5;241m1\u001b[39m]\n",
      "\n",
      "File \u001b[0;32m~/Library/Caches/pypoetry/virtualenvs/jmag-pipeline-ro4hboUK-py3.11/lib/python3.11/site-packages/numpy/lib/nanfunctions.py:1217\u001b[0m, in \u001b[0;36mnanmedian\u001b[0;34m(a, axis, out, overwrite_input, keepdims)\u001b[0m\n",
      "\u001b[1;32m   1214\u001b[0m \u001b[38;5;28;01mif\u001b[39;00m a\u001b[38;5;241m.\u001b[39msize \u001b[38;5;241m==\u001b[39m \u001b[38;5;241m0\u001b[39m:\n",
      "\u001b[1;32m   1215\u001b[0m     \u001b[38;5;28;01mreturn\u001b[39;00m np\u001b[38;5;241m.\u001b[39mnanmean(a, axis, out\u001b[38;5;241m=\u001b[39mout, keepdims\u001b[38;5;241m=\u001b[39mkeepdims)\n",
      "\u001b[0;32m-> 1217\u001b[0m \u001b[38;5;28;01mreturn\u001b[39;00m \u001b[43mfunction_base\u001b[49m\u001b[38;5;241;43m.\u001b[39;49m\u001b[43m_ureduce\u001b[49m\u001b[43m(\u001b[49m\u001b[43ma\u001b[49m\u001b[43m,\u001b[49m\u001b[43m \u001b[49m\u001b[43mfunc\u001b[49m\u001b[38;5;241;43m=\u001b[39;49m\u001b[43m_nanmedian\u001b[49m\u001b[43m,\u001b[49m\u001b[43m \u001b[49m\u001b[43mkeepdims\u001b[49m\u001b[38;5;241;43m=\u001b[39;49m\u001b[43mkeepdims\u001b[49m\u001b[43m,\u001b[49m\n",
      "\u001b[1;32m   1218\u001b[0m \u001b[43m                              \u001b[49m\u001b[43maxis\u001b[49m\u001b[38;5;241;43m=\u001b[39;49m\u001b[43maxis\u001b[49m\u001b[43m,\u001b[49m\u001b[43m \u001b[49m\u001b[43mout\u001b[49m\u001b[38;5;241;43m=\u001b[39;49m\u001b[43mout\u001b[49m\u001b[43m,\u001b[49m\n",
      "\u001b[1;32m   1219\u001b[0m \u001b[43m                              \u001b[49m\u001b[43moverwrite_input\u001b[49m\u001b[38;5;241;43m=\u001b[39;49m\u001b[43moverwrite_input\u001b[49m\u001b[43m)\u001b[49m\n",
      "\n",
      "File \u001b[0;32m~/Library/Caches/pypoetry/virtualenvs/jmag-pipeline-ro4hboUK-py3.11/lib/python3.11/site-packages/numpy/lib/function_base.py:3823\u001b[0m, in \u001b[0;36m_ureduce\u001b[0;34m(a, func, keepdims, **kwargs)\u001b[0m\n",
      "\u001b[1;32m   3820\u001b[0m             index_out \u001b[38;5;241m=\u001b[39m (\u001b[38;5;241m0\u001b[39m, ) \u001b[38;5;241m*\u001b[39m nd\n",
      "\u001b[1;32m   3821\u001b[0m             kwargs[\u001b[38;5;124m'\u001b[39m\u001b[38;5;124mout\u001b[39m\u001b[38;5;124m'\u001b[39m] \u001b[38;5;241m=\u001b[39m out[(\u001b[38;5;28mEllipsis\u001b[39m, ) \u001b[38;5;241m+\u001b[39m index_out]\n",
      "\u001b[0;32m-> 3823\u001b[0m r \u001b[38;5;241m=\u001b[39m \u001b[43mfunc\u001b[49m\u001b[43m(\u001b[49m\u001b[43ma\u001b[49m\u001b[43m,\u001b[49m\u001b[43m \u001b[49m\u001b[38;5;241;43m*\u001b[39;49m\u001b[38;5;241;43m*\u001b[39;49m\u001b[43mkwargs\u001b[49m\u001b[43m)\u001b[49m\n",
      "\u001b[1;32m   3825\u001b[0m \u001b[38;5;28;01mif\u001b[39;00m out \u001b[38;5;129;01mis\u001b[39;00m \u001b[38;5;129;01mnot\u001b[39;00m \u001b[38;5;28;01mNone\u001b[39;00m:\n",
      "\u001b[1;32m   3826\u001b[0m     \u001b[38;5;28;01mreturn\u001b[39;00m out\n",
      "\n",
      "File \u001b[0;32m~/Library/Caches/pypoetry/virtualenvs/jmag-pipeline-ro4hboUK-py3.11/lib/python3.11/site-packages/numpy/lib/nanfunctions.py:1095\u001b[0m, in \u001b[0;36m_nanmedian\u001b[0;34m(a, axis, out, overwrite_input)\u001b[0m\n",
      "\u001b[1;32m   1093\u001b[0m \u001b[38;5;28;01mif\u001b[39;00m a\u001b[38;5;241m.\u001b[39mshape[axis] \u001b[38;5;241m<\u001b[39m \u001b[38;5;241m600\u001b[39m:\n",
      "\u001b[1;32m   1094\u001b[0m     \u001b[38;5;28;01mreturn\u001b[39;00m _nanmedian_small(a, axis, out, overwrite_input)\n",
      "\u001b[0;32m-> 1095\u001b[0m result \u001b[38;5;241m=\u001b[39m \u001b[43mnp\u001b[49m\u001b[38;5;241;43m.\u001b[39;49m\u001b[43mapply_along_axis\u001b[49m\u001b[43m(\u001b[49m\u001b[43m_nanmedian1d\u001b[49m\u001b[43m,\u001b[49m\u001b[43m \u001b[49m\u001b[43maxis\u001b[49m\u001b[43m,\u001b[49m\u001b[43m \u001b[49m\u001b[43ma\u001b[49m\u001b[43m,\u001b[49m\u001b[43m \u001b[49m\u001b[43moverwrite_input\u001b[49m\u001b[43m)\u001b[49m\n",
      "\u001b[1;32m   1096\u001b[0m \u001b[38;5;28;01mif\u001b[39;00m out \u001b[38;5;129;01mis\u001b[39;00m \u001b[38;5;129;01mnot\u001b[39;00m \u001b[38;5;28;01mNone\u001b[39;00m:\n",
      "\u001b[1;32m   1097\u001b[0m     out[\u001b[38;5;241m.\u001b[39m\u001b[38;5;241m.\u001b[39m\u001b[38;5;241m.\u001b[39m] \u001b[38;5;241m=\u001b[39m result\n",
      "\n",
      "File \u001b[0;32m~/Library/Caches/pypoetry/virtualenvs/jmag-pipeline-ro4hboUK-py3.11/lib/python3.11/site-packages/numpy/lib/shape_base.py:402\u001b[0m, in \u001b[0;36mapply_along_axis\u001b[0;34m(func1d, axis, arr, *args, **kwargs)\u001b[0m\n",
      "\u001b[1;32m    400\u001b[0m buff[ind0] \u001b[38;5;241m=\u001b[39m res\n",
      "\u001b[1;32m    401\u001b[0m \u001b[38;5;28;01mfor\u001b[39;00m ind \u001b[38;5;129;01min\u001b[39;00m inds:\n",
      "\u001b[0;32m--> 402\u001b[0m     buff[ind] \u001b[38;5;241m=\u001b[39m asanyarray(\u001b[43mfunc1d\u001b[49m\u001b[43m(\u001b[49m\u001b[43minarr_view\u001b[49m\u001b[43m[\u001b[49m\u001b[43mind\u001b[49m\u001b[43m]\u001b[49m\u001b[43m,\u001b[49m\u001b[43m \u001b[49m\u001b[38;5;241;43m*\u001b[39;49m\u001b[43margs\u001b[49m\u001b[43m,\u001b[49m\u001b[43m \u001b[49m\u001b[38;5;241;43m*\u001b[39;49m\u001b[38;5;241;43m*\u001b[39;49m\u001b[43mkwargs\u001b[49m\u001b[43m)\u001b[49m)\n",
      "\u001b[1;32m    404\u001b[0m \u001b[38;5;28;01mif\u001b[39;00m \u001b[38;5;129;01mnot\u001b[39;00m \u001b[38;5;28misinstance\u001b[39m(res, matrix):\n",
      "\u001b[1;32m    405\u001b[0m     \u001b[38;5;66;03m# wrap the array, to preserve subclasses\u001b[39;00m\n",
      "\u001b[1;32m    406\u001b[0m     buff \u001b[38;5;241m=\u001b[39m res\u001b[38;5;241m.\u001b[39m__array_wrap__(buff)\n",
      "\n",
      "File \u001b[0;32m~/Library/Caches/pypoetry/virtualenvs/jmag-pipeline-ro4hboUK-py3.11/lib/python3.11/site-packages/numpy/lib/nanfunctions.py:1063\u001b[0m, in \u001b[0;36m_nanmedian1d\u001b[0;34m(arr1d, overwrite_input)\u001b[0m\n",
      "\u001b[1;32m   1058\u001b[0m \u001b[38;5;28;01mdef\u001b[39;00m\u001b[38;5;250m \u001b[39m\u001b[38;5;21m_nanmedian1d\u001b[39m(arr1d, overwrite_input\u001b[38;5;241m=\u001b[39m\u001b[38;5;28;01mFalse\u001b[39;00m):\n",
      "\u001b[1;32m   1059\u001b[0m \u001b[38;5;250m    \u001b[39m\u001b[38;5;124;03m\"\"\"\u001b[39;00m\n",
      "\u001b[1;32m   1060\u001b[0m \u001b[38;5;124;03m    Private function for rank 1 arrays. Compute the median ignoring NaNs.\u001b[39;00m\n",
      "\u001b[1;32m   1061\u001b[0m \u001b[38;5;124;03m    See nanmedian for parameter usage\u001b[39;00m\n",
      "\u001b[1;32m   1062\u001b[0m \u001b[38;5;124;03m    \"\"\"\u001b[39;00m\n",
      "\u001b[0;32m-> 1063\u001b[0m     arr1d_parsed, overwrite_input \u001b[38;5;241m=\u001b[39m \u001b[43m_remove_nan_1d\u001b[49m\u001b[43m(\u001b[49m\n",
      "\u001b[1;32m   1064\u001b[0m \u001b[43m        \u001b[49m\u001b[43marr1d\u001b[49m\u001b[43m,\u001b[49m\u001b[43m \u001b[49m\u001b[43moverwrite_input\u001b[49m\u001b[38;5;241;43m=\u001b[39;49m\u001b[43moverwrite_input\u001b[49m\u001b[43m,\u001b[49m\n",
      "\u001b[1;32m   1065\u001b[0m \u001b[43m    \u001b[49m\u001b[43m)\u001b[49m\n",
      "\u001b[1;32m   1067\u001b[0m     \u001b[38;5;28;01mif\u001b[39;00m arr1d_parsed\u001b[38;5;241m.\u001b[39msize \u001b[38;5;241m==\u001b[39m \u001b[38;5;241m0\u001b[39m:\n",
      "\u001b[1;32m   1068\u001b[0m         \u001b[38;5;66;03m# Ensure that a nan-esque scalar of the appropriate type (and unit)\u001b[39;00m\n",
      "\u001b[1;32m   1069\u001b[0m         \u001b[38;5;66;03m# is returned for `timedelta64` and `complexfloating`\u001b[39;00m\n",
      "\u001b[1;32m   1070\u001b[0m         \u001b[38;5;28;01mreturn\u001b[39;00m arr1d[\u001b[38;5;241m-\u001b[39m\u001b[38;5;241m1\u001b[39m]\n",
      "\n",
      "File \u001b[0;32m~/Library/Caches/pypoetry/virtualenvs/jmag-pipeline-ro4hboUK-py3.11/lib/python3.11/site-packages/numpy/lib/nanfunctions.py:167\u001b[0m, in \u001b[0;36m_remove_nan_1d\u001b[0;34m(arr1d, overwrite_input)\u001b[0m\n",
      "\u001b[1;32m    165\u001b[0m     c \u001b[38;5;241m=\u001b[39m np\u001b[38;5;241m.\u001b[39mnot_equal(arr1d, arr1d, dtype\u001b[38;5;241m=\u001b[39m\u001b[38;5;28mbool\u001b[39m)\n",
      "\u001b[1;32m    166\u001b[0m \u001b[38;5;28;01melse\u001b[39;00m:\n",
      "\u001b[0;32m--> 167\u001b[0m     c \u001b[38;5;241m=\u001b[39m \u001b[43mnp\u001b[49m\u001b[38;5;241;43m.\u001b[39;49m\u001b[43misnan\u001b[49m\u001b[43m(\u001b[49m\u001b[43marr1d\u001b[49m\u001b[43m)\u001b[49m\n",
      "\u001b[1;32m    169\u001b[0m s \u001b[38;5;241m=\u001b[39m np\u001b[38;5;241m.\u001b[39mnonzero(c)[\u001b[38;5;241m0\u001b[39m]\n",
      "\u001b[1;32m    170\u001b[0m \u001b[38;5;28;01mif\u001b[39;00m s\u001b[38;5;241m.\u001b[39msize \u001b[38;5;241m==\u001b[39m arr1d\u001b[38;5;241m.\u001b[39msize:\n",
      "\n",
      "\u001b[0;31mKeyboardInterrupt\u001b[0m: "
     ]
    }
   ],
   "source": [
    "%%time\n",
    "\n",
    "for target in [tuple(t) for t in list(targets[0:10].itertuples(index = False))]:\n",
    "    process_target(target)"
   ]
  },
  {
   "cell_type": "code",
   "execution_count": 27,
   "metadata": {},
   "outputs": [
    {
     "name": "stderr",
     "output_type": "stream",
     "text": [
      "WARNING: VerifyWarning: Card is too long, comment will be truncated. [astropy.io.fits.card]\n",
      "WARNING: VerifyWarning: Card is too long, comment will be truncated. [astropy.io.fits.card]\n",
      "WARNING: VerifyWarning: Card is too long, comment will be truncated. [astropy.io.fits.card]\n",
      "WARNING: VerifyWarning: Card is too long, comment will be truncated. [astropy.io.fits.card]\n",
      "WARNING: VerifyWarning: Card is too long, comment will be truncated. [astropy.io.fits.card]\n"
     ]
    },
    {
     "name": "stdout",
     "output_type": "stream",
     "text": [
      "Removing 49 bad data points (out of 1245) using the TESS provided QUALITY array\n",
      "Summing over 1 x 1 pixel lightcurves. Weighting=None\n",
      "Removing 871 bad data points (out of 3635) using the TESS provided QUALITY array\n",
      "Summing over 1 x 1 pixel lightcurves. Weighting=None\n",
      "Removing 1497 bad data points (out of 3534) using the TESS provided QUALITY array\n"
     ]
    },
    {
     "name": "stderr",
     "output_type": "stream",
     "text": [
      "/Users/gideongrinberg/Documents/Coding/srmp/final/pipeline/unpopular/cutout_data.py:119: RuntimeWarning: invalid value encountered in divide\n",
      "  self.normalized_fluxes = (self.fluxes / self.flux_medians) - 1\n",
      "/Users/gideongrinberg/Documents/Coding/srmp/final/pipeline/unpopular/cutout_data.py:125: RuntimeWarning: invalid value encountered in divide\n",
      "  self.normalized_flux_errors = self.flux_errors / self.flux_medians\n"
     ]
    },
    {
     "name": "stdout",
     "output_type": "stream",
     "text": [
      "Summing over 1 x 1 pixel lightcurves. Weighting=None\n",
      "Removing 1784 bad data points (out of 10854) using the TESS provided QUALITY array\n",
      "Summing over 1 x 1 pixel lightcurves. Weighting=None\n",
      "Removing 1095 bad data points (out of 10730) using the TESS provided QUALITY array\n",
      "Summing over 1 x 1 pixel lightcurves. Weighting=None\n"
     ]
    },
    {
     "data": {
      "text/plain": [
       "[('TIC 326479336', 2),\n",
       " ('TIC 326479336', 29),\n",
       " ('TIC 326479336', 42),\n",
       " ('TIC 326479336', 69),\n",
       " ('TIC 326479336', 70)]"
      ]
     },
     "execution_count": null,
     "metadata": {},
     "output_type": "execute_result"
    }
   ],
   "source": [
    "tic, ra, dec = [tuple(t) for t in list(targets[0:10].itertuples(index = False))][3]\n",
    "make_lightcurves(tic=f\"TIC {tic}\", ra=ra, dec=dec)"
   ]
  },
  {
   "cell_type": "code",
   "execution_count": 13,
   "metadata": {},
   "outputs": [
    {
     "data": {
      "application/vnd.jupyter.widget-view+json": {
       "model_id": "d20ccb53bdc743ea97543b7183165faa",
       "version_major": 2,
       "version_minor": 0
      },
      "text/plain": [
       "Output()"
      ]
     },
     "metadata": {},
     "output_type": "display_data"
    },
    {
     "data": {
      "text/html": [
       "<pre style=\"white-space:pre;overflow-x:auto;line-height:normal;font-family:Menlo,'DejaVu Sans Mono',consolas,'Courier New',monospace\"></pre>\n"
      ],
      "text/plain": []
     },
     "metadata": {},
     "output_type": "display_data"
    },
    {
     "data": {
      "text/html": [
       "<pre style=\"white-space:pre;overflow-x:auto;line-height:normal;font-family:Menlo,'DejaVu Sans Mono',consolas,'Courier New',monospace\">╭──────────────────────────────── <span style=\"color: #008000; text-decoration-color: #008000; font-weight: bold\">Package Info</span> ────────────────────────────────╮\n",
       "│                      ╷                                                       │\n",
       "│  <span style=\"font-weight: bold\"> Package            </span>│<span style=\"font-weight: bold\"> Note                                                </span>  │\n",
       "│ ╶────────────────────┼─────────────────────────────────────────────────────╴ │\n",
       "│   coiled_local_final │ Source wheel built from                               │\n",
       "│                      │ ~/Documents/Coding/srmp/final                         │\n",
       "│                      ╵                                                       │\n",
       "╰──────────────────────────────────────────────────────────────────────────────╯\n",
       "</pre>\n"
      ],
      "text/plain": [
       "╭──────────────────────────────── \u001b[1;32mPackage Info\u001b[0m ────────────────────────────────╮\n",
       "│                      ╷                                                       │\n",
       "│  \u001b[1m \u001b[0m\u001b[1mPackage           \u001b[0m\u001b[1m \u001b[0m│\u001b[1m \u001b[0m\u001b[1mNote                                               \u001b[0m\u001b[1m \u001b[0m  │\n",
       "│ ╶────────────────────┼─────────────────────────────────────────────────────╴ │\n",
       "│   coiled_local_final │ Source wheel built from                               │\n",
       "│                      │ ~/Documents/Coding/srmp/final                         │\n",
       "│                      ╵                                                       │\n",
       "╰──────────────────────────────────────────────────────────────────────────────╯\n"
      ]
     },
     "metadata": {},
     "output_type": "display_data"
    },
    {
     "data": {
      "application/vnd.jupyter.widget-view+json": {
       "model_id": "f2a2a06bdfe7463a9affe83ceaa06180",
       "version_major": 2,
       "version_minor": 0
      },
      "text/plain": [
       "Output()"
      ]
     },
     "metadata": {},
     "output_type": "display_data"
    },
    {
     "data": {
      "text/html": [
       "<pre style=\"white-space:pre;overflow-x:auto;line-height:normal;font-family:Menlo,'DejaVu Sans Mono',consolas,'Courier New',monospace\"></pre>\n"
      ],
      "text/plain": []
     },
     "metadata": {},
     "output_type": "display_data"
    }
   ],
   "source": [
    "cluster = coiled.Cluster(\n",
    "    n_workers=5,\n",
    "    region=\"us-east-1\",\n",
    "    name=\"test_1000\",\n",
    ")\n",
    "\n",
    "client = cluster.get_client()"
   ]
  },
  {
   "cell_type": "code",
   "execution_count": 14,
   "metadata": {},
   "outputs": [
    {
     "ename": "UnboundLocalError",
     "evalue": "cannot access local variable 'sectors' where it is not associated with a value",
     "output_type": "error",
     "traceback": [
      "\u001b[0;31m---------------------------------------------------------------------------\u001b[0m",
      "\u001b[0;31mUnboundLocalError\u001b[0m                         Traceback (most recent call last)",
      "File \u001b[0;32m<timed exec>:8\u001b[0m\n",
      "File \u001b[0;32m~/Library/Caches/pypoetry/virtualenvs/jmag-pipeline-ro4hboUK-py3.11/lib/python3.11/site-packages/distributed/client.py:2565\u001b[0m, in \u001b[0;36mClient.gather\u001b[0;34m(self, futures, errors, direct, asynchronous)\u001b[0m\n\u001b[1;32m   2562\u001b[0m     local_worker \u001b[38;5;241m=\u001b[39m \u001b[38;5;28;01mNone\u001b[39;00m\n\u001b[1;32m   2564\u001b[0m \u001b[38;5;28;01mwith\u001b[39;00m shorten_traceback():\n\u001b[0;32m-> 2565\u001b[0m     \u001b[38;5;28;01mreturn\u001b[39;00m \u001b[38;5;28;43mself\u001b[39;49m\u001b[38;5;241;43m.\u001b[39;49m\u001b[43msync\u001b[49m\u001b[43m(\u001b[49m\n\u001b[1;32m   2566\u001b[0m \u001b[43m        \u001b[49m\u001b[38;5;28;43mself\u001b[39;49m\u001b[38;5;241;43m.\u001b[39;49m\u001b[43m_gather\u001b[49m\u001b[43m,\u001b[49m\n\u001b[1;32m   2567\u001b[0m \u001b[43m        \u001b[49m\u001b[43mfutures\u001b[49m\u001b[43m,\u001b[49m\n\u001b[1;32m   2568\u001b[0m \u001b[43m        \u001b[49m\u001b[43merrors\u001b[49m\u001b[38;5;241;43m=\u001b[39;49m\u001b[43merrors\u001b[49m\u001b[43m,\u001b[49m\n\u001b[1;32m   2569\u001b[0m \u001b[43m        \u001b[49m\u001b[43mdirect\u001b[49m\u001b[38;5;241;43m=\u001b[39;49m\u001b[43mdirect\u001b[49m\u001b[43m,\u001b[49m\n\u001b[1;32m   2570\u001b[0m \u001b[43m        \u001b[49m\u001b[43mlocal_worker\u001b[49m\u001b[38;5;241;43m=\u001b[39;49m\u001b[43mlocal_worker\u001b[49m\u001b[43m,\u001b[49m\n\u001b[1;32m   2571\u001b[0m \u001b[43m        \u001b[49m\u001b[43masynchronous\u001b[49m\u001b[38;5;241;43m=\u001b[39;49m\u001b[43masynchronous\u001b[49m\u001b[43m,\u001b[49m\n\u001b[1;32m   2572\u001b[0m \u001b[43m    \u001b[49m\u001b[43m)\u001b[49m\n",
      "Cell \u001b[0;32mIn[12], line 21\u001b[0m, in \u001b[0;36mprocess_target\u001b[0;34m()\u001b[0m\n\u001b[1;32m     18\u001b[0m \u001b[38;5;28;01mexcept\u001b[39;00m \u001b[38;5;167;01mException\u001b[39;00m \u001b[38;5;28;01mas\u001b[39;00m e:\n\u001b[1;32m     19\u001b[0m     logger\u001b[38;5;241m.\u001b[39mcritical(\u001b[38;5;124mf\u001b[39m\u001b[38;5;124m\"\u001b[39m\u001b[38;5;124m[\u001b[39m\u001b[38;5;132;01m{\u001b[39;00mtic\u001b[38;5;132;01m}\u001b[39;00m\u001b[38;5;124m]: Failed to download lightcurve\u001b[39m\u001b[38;5;130;01m\\n\u001b[39;00m\u001b[38;5;132;01m{\u001b[39;00me\u001b[38;5;132;01m}\u001b[39;00m\u001b[38;5;124m\"\u001b[39m)\n\u001b[0;32m---> 21\u001b[0m \u001b[38;5;28;01mfor\u001b[39;00m sector \u001b[38;5;129;01min\u001b[39;00m sectors: \n\u001b[1;32m     22\u001b[0m     \u001b[38;5;28;01mtry\u001b[39;00m:\n\u001b[1;32m     23\u001b[0m         lc \u001b[38;5;241m=\u001b[39m load_lc(sector[\u001b[38;5;241m0\u001b[39m], sector[\u001b[38;5;241m1\u001b[39m])\n",
      "\u001b[0;31mUnboundLocalError\u001b[0m: cannot access local variable 'sectors' where it is not associated with a value"
     ]
    }
   ],
   "source": [
    "%%time\n",
    "target_tuples = [tuple(target) for target in list(targets.itertuples(index=False))][0:100]\n",
    "futures = []\n",
    "\n",
    "for target in target_tuples:\n",
    "    future = client.submit(process_target, target)\n",
    "    futures.append(future)\n",
    "\n",
    "results = client.gather(futures)"
   ]
  },
  {
   "cell_type": "code",
   "execution_count": null,
   "metadata": {},
   "outputs": [],
   "source": [
    "cluster.close()"
   ]
  },
  {
   "cell_type": "code",
   "execution_count": null,
   "metadata": {},
   "outputs": [
    {
     "data": {
      "application/vnd.jupyter.widget-view+json": {
       "model_id": "0c27455dcc3b4e5088e3b57f95012db9",
       "version_major": 2,
       "version_minor": 0
      },
      "text/plain": [
       "Button(description='Next Graph', style=ButtonStyle())"
      ]
     },
     "metadata": {},
     "output_type": "display_data"
    },
    {
     "data": {
      "application/vnd.jupyter.widget-view+json": {
       "model_id": "e250a1b1115c433eb1e22ee0e021d763",
       "version_major": 2,
       "version_minor": 0
      },
      "text/plain": [
       "Output()"
      ]
     },
     "metadata": {},
     "output_type": "display_data"
    }
   ],
   "source": [
    "import matplotlib.pyplot as plt\n",
    "import ipywidgets as widgets\n",
    "from IPython.display import display, clear_output\n",
    "\n",
    "%matplotlib widget\n",
    "\n",
    "results_flat = []\n",
    "for result in results:\n",
    "    results_flat.extend(result)\n",
    "\n",
    "output = widgets.Output()\n",
    "counter = 0\n",
    "\n",
    "def plot(i):\n",
    "    tic, sector, complexity = results_flat[i]\n",
    "\n",
    "    if complexity not in [True, False]:\n",
    "        complexity = None\n",
    "\n",
    "    with output:\n",
    "        clear_output(wait=True)\n",
    "        make_plot(load_lc(tic, sector), complexity=complexity)\n",
    "        plt.show()\n",
    "\n",
    "def on_button_click(b):\n",
    "    \"\"\"Callback function for button press\"\"\"\n",
    "    global counter\n",
    "    counter += 1  # Increment counter\n",
    "    plot(counter)\n",
    "\n",
    "button = widgets.Button(description=\"Next Graph\")\n",
    "button.on_click(on_button_click)\n",
    "\n",
    "display(button, output)\n",
    "plot(counter)\n"
   ]
  },
  {
   "cell_type": "code",
   "execution_count": null,
   "metadata": {},
   "outputs": [],
   "source": []
  }
 ],
 "metadata": {
  "kernelspec": {
   "display_name": "Python 3 (ipykernel)",
   "language": "python",
   "name": "python3"
  },
  "language_info": {
   "codemirror_mode": {
    "name": "ipython",
    "version": 3
   },
   "file_extension": ".py",
   "mimetype": "text/x-python",
   "name": "python",
   "nbconvert_exporter": "python",
   "pygments_lexer": "ipython3",
   "version": "3.11.11"
  }
 },
 "nbformat": 4,
 "nbformat_minor": 4
}
